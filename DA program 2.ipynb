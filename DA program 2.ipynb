{
 "cells": [
  {
   "cell_type": "code",
   "execution_count": 20,
   "id": "ae41a5c7",
   "metadata": {},
   "outputs": [],
   "source": [
    "from scipy.stats import ttest_ind\n",
    "from scipy.stats import ttest_ind \n",
    "from scipy.stats import f_oneway\n",
    "import pandas as pd"
   ]
  },
  {
   "cell_type": "code",
   "execution_count": 21,
   "id": "5627b4d1",
   "metadata": {},
   "outputs": [
    {
     "data": {
      "text/html": [
       "<div>\n",
       "<style scoped>\n",
       "    .dataframe tbody tr th:only-of-type {\n",
       "        vertical-align: middle;\n",
       "    }\n",
       "\n",
       "    .dataframe tbody tr th {\n",
       "        vertical-align: top;\n",
       "    }\n",
       "\n",
       "    .dataframe thead th {\n",
       "        text-align: right;\n",
       "    }\n",
       "</style>\n",
       "<table border=\"1\" class=\"dataframe\">\n",
       "  <thead>\n",
       "    <tr style=\"text-align: right;\">\n",
       "      <th></th>\n",
       "      <th>gender</th>\n",
       "      <th>ethnicity</th>\n",
       "      <th>parental level of education</th>\n",
       "      <th>lunch</th>\n",
       "      <th>test preparation course</th>\n",
       "      <th>math score</th>\n",
       "      <th>reading score</th>\n",
       "      <th>writing score</th>\n",
       "    </tr>\n",
       "  </thead>\n",
       "  <tbody>\n",
       "    <tr>\n",
       "      <th>0</th>\n",
       "      <td>female</td>\n",
       "      <td>group B</td>\n",
       "      <td>bachelor's degree</td>\n",
       "      <td>standard</td>\n",
       "      <td>none</td>\n",
       "      <td>72</td>\n",
       "      <td>72</td>\n",
       "      <td>74</td>\n",
       "    </tr>\n",
       "    <tr>\n",
       "      <th>1</th>\n",
       "      <td>female</td>\n",
       "      <td>group C</td>\n",
       "      <td>some college</td>\n",
       "      <td>standard</td>\n",
       "      <td>completed</td>\n",
       "      <td>69</td>\n",
       "      <td>90</td>\n",
       "      <td>88</td>\n",
       "    </tr>\n",
       "    <tr>\n",
       "      <th>2</th>\n",
       "      <td>female</td>\n",
       "      <td>group B</td>\n",
       "      <td>master's degree</td>\n",
       "      <td>standard</td>\n",
       "      <td>none</td>\n",
       "      <td>90</td>\n",
       "      <td>95</td>\n",
       "      <td>93</td>\n",
       "    </tr>\n",
       "    <tr>\n",
       "      <th>3</th>\n",
       "      <td>male</td>\n",
       "      <td>group A</td>\n",
       "      <td>associate's degree</td>\n",
       "      <td>free/reduced</td>\n",
       "      <td>none</td>\n",
       "      <td>47</td>\n",
       "      <td>57</td>\n",
       "      <td>44</td>\n",
       "    </tr>\n",
       "    <tr>\n",
       "      <th>4</th>\n",
       "      <td>male</td>\n",
       "      <td>group C</td>\n",
       "      <td>some college</td>\n",
       "      <td>standard</td>\n",
       "      <td>none</td>\n",
       "      <td>76</td>\n",
       "      <td>78</td>\n",
       "      <td>75</td>\n",
       "    </tr>\n",
       "    <tr>\n",
       "      <th>...</th>\n",
       "      <td>...</td>\n",
       "      <td>...</td>\n",
       "      <td>...</td>\n",
       "      <td>...</td>\n",
       "      <td>...</td>\n",
       "      <td>...</td>\n",
       "      <td>...</td>\n",
       "      <td>...</td>\n",
       "    </tr>\n",
       "    <tr>\n",
       "      <th>995</th>\n",
       "      <td>female</td>\n",
       "      <td>group E</td>\n",
       "      <td>master's degree</td>\n",
       "      <td>standard</td>\n",
       "      <td>completed</td>\n",
       "      <td>88</td>\n",
       "      <td>99</td>\n",
       "      <td>95</td>\n",
       "    </tr>\n",
       "    <tr>\n",
       "      <th>996</th>\n",
       "      <td>male</td>\n",
       "      <td>group C</td>\n",
       "      <td>high school</td>\n",
       "      <td>free/reduced</td>\n",
       "      <td>none</td>\n",
       "      <td>62</td>\n",
       "      <td>55</td>\n",
       "      <td>55</td>\n",
       "    </tr>\n",
       "    <tr>\n",
       "      <th>997</th>\n",
       "      <td>female</td>\n",
       "      <td>group C</td>\n",
       "      <td>high school</td>\n",
       "      <td>free/reduced</td>\n",
       "      <td>completed</td>\n",
       "      <td>59</td>\n",
       "      <td>71</td>\n",
       "      <td>65</td>\n",
       "    </tr>\n",
       "    <tr>\n",
       "      <th>998</th>\n",
       "      <td>female</td>\n",
       "      <td>group D</td>\n",
       "      <td>some college</td>\n",
       "      <td>standard</td>\n",
       "      <td>completed</td>\n",
       "      <td>68</td>\n",
       "      <td>78</td>\n",
       "      <td>77</td>\n",
       "    </tr>\n",
       "    <tr>\n",
       "      <th>999</th>\n",
       "      <td>female</td>\n",
       "      <td>group D</td>\n",
       "      <td>some college</td>\n",
       "      <td>free/reduced</td>\n",
       "      <td>none</td>\n",
       "      <td>77</td>\n",
       "      <td>86</td>\n",
       "      <td>86</td>\n",
       "    </tr>\n",
       "  </tbody>\n",
       "</table>\n",
       "<p>1000 rows × 8 columns</p>\n",
       "</div>"
      ],
      "text/plain": [
       "     gender ethnicity parental level of education         lunch  \\\n",
       "0    female   group B           bachelor's degree      standard   \n",
       "1    female   group C                some college      standard   \n",
       "2    female   group B             master's degree      standard   \n",
       "3      male   group A          associate's degree  free/reduced   \n",
       "4      male   group C                some college      standard   \n",
       "..      ...       ...                         ...           ...   \n",
       "995  female   group E             master's degree      standard   \n",
       "996    male   group C                 high school  free/reduced   \n",
       "997  female   group C                 high school  free/reduced   \n",
       "998  female   group D                some college      standard   \n",
       "999  female   group D                some college  free/reduced   \n",
       "\n",
       "    test preparation course  math score  reading score  writing score  \n",
       "0                      none          72             72             74  \n",
       "1                 completed          69             90             88  \n",
       "2                      none          90             95             93  \n",
       "3                      none          47             57             44  \n",
       "4                      none          76             78             75  \n",
       "..                      ...         ...            ...            ...  \n",
       "995               completed          88             99             95  \n",
       "996                    none          62             55             55  \n",
       "997               completed          59             71             65  \n",
       "998               completed          68             78             77  \n",
       "999                    none          77             86             86  \n",
       "\n",
       "[1000 rows x 8 columns]"
      ]
     },
     "execution_count": 21,
     "metadata": {},
     "output_type": "execute_result"
    }
   ],
   "source": [
    "df1 = pd.read_csv(r'C:\\Users\\Suneetha\\Downloads\\StudentsPerformance.csv')\n",
    "df1"
   ]
  },
  {
   "cell_type": "code",
   "execution_count": 12,
   "id": "231432b0",
   "metadata": {},
   "outputs": [
    {
     "data": {
      "text/plain": [
       "3      47\n",
       "4      76\n",
       "7      40\n",
       "8      64\n",
       "10     58\n",
       "       ..\n",
       "985    57\n",
       "987    81\n",
       "990    86\n",
       "994    63\n",
       "996    62\n",
       "Name: math score, Length: 482, dtype: int64"
      ]
     },
     "execution_count": 12,
     "metadata": {},
     "output_type": "execute_result"
    }
   ],
   "source": [
    "male_scores = df1[df1['gender'] == 'male']['math score']\n",
    "male_scores\n"
   ]
  },
  {
   "cell_type": "code",
   "execution_count": 14,
   "id": "6c81a21a",
   "metadata": {},
   "outputs": [
    {
     "data": {
      "text/plain": [
       "0      72\n",
       "1      69\n",
       "2      90\n",
       "5      71\n",
       "6      88\n",
       "       ..\n",
       "993    62\n",
       "995    88\n",
       "997    59\n",
       "998    68\n",
       "999    77\n",
       "Name: math score, Length: 518, dtype: int64"
      ]
     },
     "execution_count": 14,
     "metadata": {},
     "output_type": "execute_result"
    }
   ],
   "source": [
    "female_scores = df1[df1['gender'] == 'female']['math score'] \n",
    "female_scores"
   ]
  },
  {
   "cell_type": "code",
   "execution_count": 15,
   "id": "0022aa47",
   "metadata": {},
   "outputs": [],
   "source": [
    "t_statistic, p_value = ttest_ind(male_scores, female_scores)"
   ]
  },
  {
   "cell_type": "code",
   "execution_count": 17,
   "id": "141c4d96",
   "metadata": {},
   "outputs": [
    {
     "name": "stdout",
     "output_type": "stream",
     "text": [
      "T-Statistic: 5.383245869828983\n",
      "P-Value: 9.120185549328822e-08\n"
     ]
    }
   ],
   "source": [
    "print(f'T-Statistic: {t_statistic}') \n",
    "print(f'P-Value: {p_value}')"
   ]
  },
  {
   "cell_type": "code",
   "execution_count": 19,
   "id": "4925f50f",
   "metadata": {},
   "outputs": [
    {
     "name": "stdout",
     "output_type": "stream",
     "text": [
      "There is a significant difference in math scores between male and female students.\n"
     ]
    }
   ],
   "source": [
    "alpha = 0.05\n",
    "if p_value < alpha:\n",
    "    print(\"There is a significant difference in math scores between male and female students.\")\n",
    "else:\n",
    "    print(\"There is no significant difference in math scores between male and female students.\")\n"
   ]
  },
  {
   "cell_type": "code",
   "execution_count": 22,
   "id": "e6af0181",
   "metadata": {},
   "outputs": [
    {
     "data": {
      "text/plain": [
       "array(['group B', 'group C', 'group A', 'group D', 'group E'],\n",
       "      dtype=object)"
      ]
     },
     "execution_count": 22,
     "metadata": {},
     "output_type": "execute_result"
    }
   ],
   "source": [
    "ethnicity_groups = df1['ethnicity'].unique() \n",
    "ethnicity_groups"
   ]
  },
  {
   "cell_type": "code",
   "execution_count": 23,
   "id": "1d2b31cc",
   "metadata": {},
   "outputs": [
    {
     "data": {
      "text/plain": [
       "{'group B': 0      72\n",
       " 2      90\n",
       " 5      71\n",
       " 6      88\n",
       " 7      40\n",
       "        ..\n",
       " 969    75\n",
       " 976    60\n",
       " 980     8\n",
       " 982    79\n",
       " 991    65\n",
       " Name: math score, Length: 190, dtype: int64,\n",
       " 'group C': 1      69\n",
       " 4      76\n",
       " 10     58\n",
       " 15     69\n",
       " 16     88\n",
       "        ..\n",
       " 979    91\n",
       " 984    74\n",
       " 986    40\n",
       " 996    62\n",
       " 997    59\n",
       " Name: math score, Length: 319, dtype: int64,\n",
       " 'group A': 3      47\n",
       " 13     78\n",
       " 14     50\n",
       " 25     73\n",
       " 46     55\n",
       "        ..\n",
       " 974    54\n",
       " 983    78\n",
       " 985    57\n",
       " 988    44\n",
       " 994    63\n",
       " Name: math score, Length: 89, dtype: int64,\n",
       " 'group D': 8      64\n",
       " 11     40\n",
       " 20     66\n",
       " 22     44\n",
       " 24     74\n",
       "        ..\n",
       " 989    67\n",
       " 992    55\n",
       " 993    62\n",
       " 998    68\n",
       " 999    77\n",
       " Name: math score, Length: 262, dtype: int64,\n",
       " 'group E': 32      56\n",
       " 34      97\n",
       " 35      81\n",
       " 44      50\n",
       " 50      53\n",
       "       ... \n",
       " 962    100\n",
       " 968     68\n",
       " 987     81\n",
       " 990     86\n",
       " 995     88\n",
       " Name: math score, Length: 140, dtype: int64}"
      ]
     },
     "execution_count": 23,
     "metadata": {},
     "output_type": "execute_result"
    }
   ],
   "source": [
    "ethnicity_data = {ethnicity: df1[df1['ethnicity'] == ethnicity]['math score'] for ethnicity in ethnicity_groups}\n",
    "ethnicity_data\n"
   ]
  },
  {
   "cell_type": "code",
   "execution_count": 24,
   "id": "57ea2c4e",
   "metadata": {},
   "outputs": [],
   "source": [
    "f_statistic, p_value_anova = f_oneway(*ethnicity_data.values())"
   ]
  },
  {
   "cell_type": "code",
   "execution_count": 25,
   "id": "47ae02c5",
   "metadata": {},
   "outputs": [
    {
     "name": "stdout",
     "output_type": "stream",
     "text": [
      "F-Statistic: 14.593885166332637\n",
      "P-Value (ANOVA): 1.3732194030370688e-11\n"
     ]
    }
   ],
   "source": [
    "print(f'F-Statistic: {f_statistic}')\n",
    "print(f'P-Value (ANOVA): {p_value_anova}')\n"
   ]
  },
  {
   "cell_type": "code",
   "execution_count": 26,
   "id": "91577c39",
   "metadata": {},
   "outputs": [
    {
     "name": "stdout",
     "output_type": "stream",
     "text": [
      "There is a significant difference in math scores among different ethnicities.\n"
     ]
    }
   ],
   "source": [
    "if p_value_anova < alpha:\n",
    "    print(\"There is a significant difference in math scores among different ethnicities.\") \n",
    "else:\n",
    "    print(\"There is no significant difference in math scores among different ethnicities.\")\n"
   ]
  },
  {
   "cell_type": "code",
   "execution_count": null,
   "id": "22807c77",
   "metadata": {},
   "outputs": [],
   "source": []
  }
 ],
 "metadata": {
  "kernelspec": {
   "display_name": "Python 3 (ipykernel)",
   "language": "python",
   "name": "python3"
  },
  "language_info": {
   "codemirror_mode": {
    "name": "ipython",
    "version": 3
   },
   "file_extension": ".py",
   "mimetype": "text/x-python",
   "name": "python",
   "nbconvert_exporter": "python",
   "pygments_lexer": "ipython3",
   "version": "3.9.12"
  }
 },
 "nbformat": 4,
 "nbformat_minor": 5
}
